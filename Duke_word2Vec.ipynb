{
 "cells": [
  {
   "cell_type": "code",
   "execution_count": 2,
   "metadata": {},
   "outputs": [],
   "source": [
    "import numpy as np\n",
    "import random\n",
    "import matplotlib.pyplot as plt\n",
    "import os.path as op\n",
    "import pickle as pickle\n",
    "\n",
    "from softmax import softmax_sol as softmax\n",
    "from sigmoid import sigmoid_sol as sigmoid\n",
    "from sgd import *\n",
    "from test_func import *\n",
    "from data_utils import *"
   ]
  },
  {
   "cell_type": "code",
   "execution_count": 3,
   "metadata": {
    "collapsed": true
   },
   "outputs": [],
   "source": [
    "def normalizeRows(x):\n",
    "    \"\"\" Row normalization function \"\"\"\n",
    "    N = x.shape[0]\n",
    "    x /= np.sqrt(np.sum(x**2, axis=1)).reshape((N,1)) + 1e-30\n",
    "    return x"
   ]
  },
  {
   "cell_type": "code",
   "execution_count": 5,
   "metadata": {
    "collapsed": true
   },
   "outputs": [],
   "source": [
    "def negSamplingCostAndGradient(predicted, target, outputVectors, dataset, \n",
    "    K=10):\n",
    "    \"\"\" Negative sampling cost function for word2vec models \"\"\"\n",
    "    grad = np.zeros(outputVectors.shape)\n",
    "    gradPred = np.zeros(predicted.shape)\n",
    "\n",
    "    indices = [target]\n",
    "    for k in range(K):\n",
    "        newidx = dataset.sampleTokenIdx()\n",
    "        while newidx == target:\n",
    "            newidx = dataset.sampleTokenIdx()\n",
    "        indices += [newidx]\n",
    "\n",
    "    labels = np.array([1] + [-1 for k in range(K)])\n",
    "    vecs = outputVectors[indices,:]\n",
    "\n",
    "    t = sigmoid(vecs.dot(predicted) * labels)\n",
    "    cost = -np.sum(np.log(t))\n",
    "\n",
    "    delta = labels * (t - 1)\n",
    "    gradPred = delta.reshape((1,K+1)).dot(vecs).flatten()\n",
    "    gradtemp = delta.reshape((K+1,1)).dot(predicted.reshape(\n",
    "        (1,predicted.shape[0])))\n",
    "    for k in range(K+1):\n",
    "        grad[indices[k]] += gradtemp[k,:]\n",
    "    \n",
    "    return cost, gradPred, grad"
   ]
  },
  {
   "cell_type": "code",
   "execution_count": 6,
   "metadata": {
    "collapsed": true
   },
   "outputs": [],
   "source": [
    "def softmaxCostAndGradient(predicted, target, outputVectors, dataset):\n",
    "    \"\"\" Softmax cost function for word2vec models \"\"\"\n",
    "    probabilities = softmax(predicted.dot(outputVectors.T))\n",
    "    cost = -np.log(probabilities[target])\n",
    "    delta = probabilities\n",
    "    delta[target] -= 1\n",
    "    N = delta.shape[0]\n",
    "    D = predicted.shape[0]\n",
    "    grad = delta.reshape((N,1)) * predicted.reshape((1,D))\n",
    "    gradPred = (delta.reshape((1,N)).dot(outputVectors)).flatten()\n",
    "\n",
    "    return cost, gradPred, grad"
   ]
  },
  {
   "cell_type": "code",
   "execution_count": 7,
   "metadata": {
    "collapsed": true
   },
   "outputs": [],
   "source": [
    "def skipgram(currentWord, C, contextWords, tokens, inputVectors, outputVectors, \n",
    "    dataset, word2vecCostAndGradient = softmaxCostAndGradient):\n",
    "    \"\"\" Skip-gram model in word2vec \"\"\"                                   \n",
    "    currentI = tokens[currentWord]\n",
    "    predicted = inputVectors[currentI, :]\n",
    "\n",
    "    cost = 0.0\n",
    "    gradIn = np.zeros(inputVectors.shape)\n",
    "    gradOut = np.zeros(outputVectors.shape)\n",
    "    for cwd in contextWords:\n",
    "        idx = tokens[cwd]\n",
    "        cc, gp, gg = word2vecCostAndGradient(predicted, idx, outputVectors, dataset)\n",
    "        cost += cc\n",
    "        gradOut += gg\n",
    "        gradIn[currentI, :] += gp\n",
    "    \n",
    "    return cost, gradIn, gradOut"
   ]
  },
  {
   "cell_type": "code",
   "execution_count": 8,
   "metadata": {
    "collapsed": true
   },
   "outputs": [],
   "source": [
    "def word2Vec(min_count, size):\n",
    "    random.seed(314)\n",
    "    dataset = StanfordSentiment()\n",
    "    # convert tokens to dictionary\n",
    "    tokenDic = dataset.tokens()\n",
    "    nWords = len(tokenDic)\n",
    "    dimVectors = size\n",
    "    # window size is 5\n",
    "    conSize = 5\n",
    "\n",
    "    random.seed(12345)\n",
    "    np.random.seed(7654)    \n",
    "    wordVectors = np.concatenate(((np.random.rand(nWords, dimVectors) - 0.5)/dimVectors, np.zeros((nWords, dimVectors))))\n",
    "    wordVectors0 = sgd(\n",
    "        lambda vec: word2vec_sgd_wrapper(skipgram, tokenDic, vec, dataset, conSize,\n",
    "            negSamplingCostAndGradient),\n",
    "        wordVectors, 0.30, 40000, None, True, PRINT_EVERY=10)\n",
    "    print(\"sanity check: cost at convergence should be around or below 10\")\n",
    "\n",
    "    # sum the input and output word vectors\n",
    "    wordVectors = (wordVectors0[:nWords,:] + wordVectors0[nWords:,:])\n",
    "    \n",
    "    return wordVectors   "
   ]
  },
  {
   "cell_type": "code",
   "execution_count": 9,
   "metadata": {
    "collapsed": true
   },
   "outputs": [],
   "source": [
    "def load_w2v():\n",
    "    _, wordVectors0, _ = load_saved_params()\n",
    "    wordVectors = (wordVectors0[:nWords,:] + wordVectors0[nWords:,:])\n",
    "    \n",
    "    return wordVectors"
   ]
  },
  {
   "cell_type": "code",
   "execution_count": 10,
   "metadata": {
    "collapsed": true
   },
   "outputs": [],
   "source": [
    "def visualize_w2v(wordVectors, tokenDict, targetWords):    \n",
    "    vIdx = [tokenDict[word] for word in targetWords]\n",
    "    vVecs = wordVectors[vIdx, :]\n",
    "    temp = (vVecs - np.mean(vVecs))\n",
    "    covariance = 1.0 / len(vIdx) * temp.T.dot(temp)\n",
    "    U,S,V = np.linalg.svd(covariance)\n",
    "    coord = temp.dot(U[:,0:2])\n",
    "\n",
    "    plt.figure(figsize=(12,12))\n",
    "    for i in range(len(targetWords)):\n",
    "        plt.scatter(x=coord[i,0], y=coord[i,1])\n",
    "        plt.text(coord[i,0]+0.01, coord[i,1]+0.01, targetWords[i],\n",
    "            bbox=dict(facecolor='green', alpha=0.05), fontsize=20)\n",
    "    plt.xlim((np.min(coord[:,0])-0.1, np.max(coord[:,0])+0.1))\n",
    "    plt.ylim((np.min(coord[:,1])-0.1, np.max(coord[:,1])+0.1))\n",
    "    plt.xlabel(\"SVD[0]\")\n",
    "    plt.ylabel(\"SVD[1]\")\n",
    "\n",
    "    plt.savefig('rnn_food_word_vectors.png')\n",
    "    plt.show()"
   ]
  },
  {
   "cell_type": "markdown",
   "metadata": {},
   "source": [
    "# TODO: this function should return the word2Vec and tokenDic"
   ]
  },
  {
   "cell_type": "code",
   "execution_count": 13,
   "metadata": {},
   "outputs": [
    {
     "name": "stdout",
     "output_type": "stream",
     "text": [
      "sanity check: cost at convergence should be around or below 10\n"
     ]
    }
   ],
   "source": [
    "wordVectors = word2Vec(min_count=1, size=5)"
   ]
  },
  {
   "cell_type": "code",
   "execution_count": 12,
   "metadata": {
    "collapsed": true
   },
   "outputs": [],
   "source": [
    "targetWords = ['kung','pao','rice','noodle','fried','steak', 'spaghetti', 'tofu', 'cheese', 'chicken','chow','mein','shrimp', 'the','burger','fries','boba','tea','sunday',\"monday\",'friday']"
   ]
  },
  {
   "cell_type": "code",
   "execution_count": 16,
   "metadata": {},
   "outputs": [
    {
     "data": {
      "image/png": "[encoded data removed]",
      "text/plain": [
       "<matplotlib.figure.Figure at 0x10aaa5470>"
      ]
     },
     "metadata": {},
     "output_type": "display_data"
    }
   ],
   "source": [
    "visualize_w2v(wordVectors, tokenDic, targetWords)"
   ]
  },
  {
   "cell_type": "code",
   "execution_count": null,
   "metadata": {
    "collapsed": true
   },
   "outputs": [],
   "source": []
  },
  {
   "cell_type": "code",
   "execution_count": null,
   "metadata": {
    "collapsed": true
   },
   "outputs": [],
   "source": []
  },
  {
   "cell_type": "code",
   "execution_count": null,
   "metadata": {
    "collapsed": true
   },
   "outputs": [],
   "source": []
  },
  {
   "cell_type": "markdown",
   "metadata": {},
   "source": [
    "# Test Area"
   ]
  },
  {
   "cell_type": "code",
   "execution_count": null,
   "metadata": {
    "collapsed": true
   },
   "outputs": [],
   "source": [
    "sentences = []\n",
    "with open(\"labeled_reviews .txt\", \"r\", encoding='utf-8') as f:\n",
    "    sentence = []\n",
    "    for line in f:\n",
    "        if line == '\\n':\n",
    "            sentences.append(sentence)\n",
    "            sentence = []\n",
    "        splitted = line.split()[:1]\n",
    "        # Deal with some peculiar encoding issues with this file\n",
    "        sentence += splitted"
   ]
  },
  {
   "cell_type": "code",
   "execution_count": 15,
   "metadata": {
    "collapsed": true
   },
   "outputs": [],
   "source": [
    "random.seed(314)\n",
    "dataset = StanfordSentiment()\n",
    "# convert tokens to dictionary\n",
    "tokenDic = dataset.tokens()\n",
    "nWords = len(tokenDic)"
   ]
  },
  {
   "cell_type": "code",
   "execution_count": null,
   "metadata": {
    "collapsed": true
   },
   "outputs": [],
   "source": [
    "sentences = []\n",
    "with open(\"./stanfordSentimentTreebank\" + \"/datasetSentences.txt\", \"r\", encoding='utf-8') as f:\n",
    "    first = True\n",
    "    for line in f:\n",
    "        if first:\n",
    "            first = False\n",
    "            continue\n",
    "\n",
    "        splitted = line.strip().split()[1:]\n",
    "        # Deal with some peculiar encoding issues with this file\n",
    "        sentences += [[w.lower() for w in splitted]]"
   ]
  }
 ],
 "metadata": {
  "kernelspec": {
   "display_name": "Python [conda root]",
   "language": "python",
   "name": "conda-root-py"
  },
  "language_info": {
   "codemirror_mode": {
    "name": "ipython",
    "version": 3
   },
   "file_extension": ".py",
   "mimetype": "text/x-python",
   "name": "python",
   "nbconvert_exporter": "python",
   "pygments_lexer": "ipython3",
   "version": "3.6.1"
  }
 },
 "nbformat": 4,
 "nbformat_minor": 2
}
